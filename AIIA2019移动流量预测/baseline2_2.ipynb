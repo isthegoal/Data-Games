{
 "cells": [
  {
   "cell_type": "code",
   "execution_count": 34,
   "metadata": {},
   "outputs": [],
   "source": [
    "import warnings\n",
    "import numpy as np\n",
    "import pandas as pd\n",
    "import xgboost as xgb\n",
    "from tqdm import tqdm\n",
    "import matplotlib.pyplot as plt\n",
    "from sklearn.model_selection import KFold\n",
    "from sklearn.linear_model import LinearRegression\n",
    "warnings.filterwarnings('ignore')\n",
    "%matplotlib inline"
   ]
  },
  {
   "cell_type": "code",
   "execution_count": 40,
   "metadata": {},
   "outputs": [],
   "source": [
    "def label_holiday_miss(data, holiday):\n",
    "    holiday = holiday.astype(str)\n",
    "    data = data.set_index('时间')\n",
    "    data['holiday_flag'] = 0\n",
    "    start_date = holiday.iloc[:,1].tolist()+holiday.iloc[:,3].tolist()+holiday.iloc[:,5].tolist()\n",
    "    end_date = holiday.iloc[:,2].tolist()+holiday.iloc[:,4].tolist()+holiday.iloc[:,6].tolist()\n",
    "    ss = holiday.iloc[:,0].tolist()*3\n",
    "    for s, e, n in zip(start_date, end_date, ss):\n",
    "        data.loc[s:e, 'holiday_flag'] = n\n",
    "    return data\n",
    "\n",
    "def split_abc(data):\n",
    "    data_a = data[data['地市'] == 'A'].drop(['地市'], axis=1)\n",
    "    data_b = data[data['地市'] == 'B'].drop(['地市'], axis=1)\n",
    "    data_c = data[data['地市'] == 'C'].drop(['地市'], axis=1)\n",
    "    data_a.fillna(method='bfill', inplace=True)\n",
    "    data_b.fillna(method='bfill', inplace=True)\n",
    "    data_c.fillna(method='bfill', inplace=True)\n",
    "    return data_a, data_b, data_c\n",
    "\n",
    "def xgb_mape(y_predicted, dtrain_a):\n",
    "    y_true = dtrain_a.get_label()\n",
    "    score = np.mean(np.abs((y_predicted - y_true) / y_true))\n",
    "    return ('mape', score)\n",
    "\n",
    "def xgb_smape(y_predicted, dtrain_a):\n",
    "    y_true = dtrain_a.get_label()\n",
    "    score =  2.0 * np.mean(np.abs(y_predicted - y_true) / (np.abs(y_predicted) + np.abs(y_true))) * 100\n",
    "    return ('smape', score)\n",
    "\n",
    "def add_date_features(train_df, test_df, encode_cols=['Year','Month','WeekofYear','Dayofyear','holiday_flag']):\n",
    "    # extract a few features from datetime\n",
    "    df = train_df.append(test_df)\n",
    "    df['Year'] = df.index.year\n",
    "    df['Month'] = df.index.month\n",
    "    df['WeekofYear'] = df.index.weekofyear\n",
    "    df['Dayofyear'] = df.index.dayofyear\n",
    "    df['DayofWeek'] = df.index.weekday\n",
    "    #df['Hour'] = df.index.hour\n",
    "    df['quarter'] = df.index.quarter\n",
    "    #df['holiday'] = df['holiday_flag']  #\n",
    "    # one hot encoder\n",
    "    for col in encode_cols:\n",
    "        df[col] = df[col].astype('category')\n",
    "    df = pd.get_dummies(df, columns=encode_cols)\n",
    "    return df\n",
    "\n",
    "def get_test_data(start_date, end_date, bucket_size):\n",
    "    index = pd.date_range(start_date,end_date,freq=bucket_size)\n",
    "    df = pd.DataFrame({'时间':index})\n",
    "    df['流量'] = -11\n",
    "    return df\n",
    "\n",
    "def add_trend(train_df, test_df):\n",
    "    lr = LinearRegression()\n",
    "    x = np.arange(train_df.shape[0]).reshape(-1, 1)\n",
    "    train_df['log流量'] = np.log(train_df['流量'])\n",
    "    test_df['log流量'] = -11\n",
    "    lr.fit(x, train_df['log流量'])\n",
    "    a, b = lr.coef_, lr.intercept_\n",
    "    x = np.arange(train_df.shape[0]+test_df.shape[0]).reshape(-1,1)\n",
    "    trend = x*a+b\n",
    "    df = train_df.append(test_df)\n",
    "    df['trend'] = trend\n",
    "    df['diff'] = df['log流量'] - df.trend\n",
    "    train_df = df[df['流量'] != -11]\n",
    "    test_df = df[df['流量'] == -11]\n",
    "    return train_df, test_df"
   ]
  },
  {
   "cell_type": "code",
   "execution_count": 41,
   "metadata": {},
   "outputs": [],
   "source": [
    "def xgb_regression(data, params,n_fold=5,feval=None):\n",
    "    train = data[data['流量'] != -11]\n",
    "    test = data[data['流量'] == -11]\n",
    "    X = train.drop(['流量','log流量','diff','trend'], axis=1).values\n",
    "    Y = train['diff'].values\n",
    "    test_X = test.drop(['流量','log流量','diff','trend'], axis=1).values\n",
    "    trend = train['trend'].values\n",
    "    test_trend = test['trend'].values\n",
    "    kf = KFold(n_splits=n_fold, random_state=2019)\n",
    "    oof = np.zeros(X.shape[0])\n",
    "    pre = np.zeros(test_X.shape[0])\n",
    "    dtest = xgb.DMatrix(test_X)\n",
    "    importance_df = []\n",
    "    for train_index, valid_index in kf.split(X):\n",
    "        train_x, train_y = X[train_index,:],Y[train_index]\n",
    "        valid_x, valid_y = X[valid_index,:],Y[valid_index]\n",
    "        dtrain = xgb.DMatrix(train_x, train_y)\n",
    "        dvalid = xgb.DMatrix(valid_x, valid_y)\n",
    "        model = xgb.train(params, dtrain, 10000, evals=[(dtrain, 'train'), (dvalid, 'validate')],\n",
    "                          early_stopping_rounds=30, verbose_eval=0, feval=None)\n",
    "        #importance = xgb_model_a.get_fscore()\n",
    "        oof[valid_index] = model.predict(dvalid)\n",
    "        pre = pre+model.predict(dtest)/n_fold\n",
    "        #importance = model.get_fscore()\n",
    "        #importance_df.append(importance)\n",
    "    oof = np.exp(oof+trend)\n",
    "    pre = np.exp(pre+test_trend)\n",
    "    oof_df = pd.DataFrame({'时间':train.index,'流量':oof})\n",
    "    pre_df = pd.DataFrame({'时间':test.index,'流量':pre})\n",
    "    return oof_df, pre_df#importance_df\n",
    "\n",
    "def result_visualization(pre, oof, original_data):\n",
    "    plt.figure(figsize=(30,15))\n",
    "    #original_data = original_data[original_data['流量']!=-11]\n",
    "    plt.plot(original_data['流量'].values,alpha=0.6, label='train')\n",
    "    plt.plot(oof['流量'].values,alpha=0.5, label='predict')\n",
    "    plt.plot(np.arange(original_data.shape[0],original_data.shape[0]+pre.shape[0]),pre['流量'].values, label='forecast')\n",
    "    plt.legend()"
   ]
  },
  {
   "cell_type": "markdown",
   "metadata": {},
   "source": [
    "# load data"
   ]
  },
  {
   "cell_type": "code",
   "execution_count": 42,
   "metadata": {},
   "outputs": [],
   "source": [
    "data = pd.read_excel('../data/data_1.xlsx')\n",
    "holiday = pd.read_excel('../data/holiday_dates.xlsx')\n",
    "#holiday = holiday.iloc[:2,:]\n",
    "\n",
    "data = label_holiday_miss(data, holiday)  # 标记节假日\n",
    "data_a, data_b, data_c = split_abc(data)  # 划分城市ABC\n",
    "test= get_test_data('2018-11-16 00:00:00','2019-2-18 23:00:00','H')  # 公共的测试集\n",
    "test = label_holiday_miss(test, holiday)  # 标记节假日     only 春节和元旦"
   ]
  },
  {
   "cell_type": "markdown",
   "metadata": {},
   "source": [
    "# city A"
   ]
  },
  {
   "cell_type": "code",
   "execution_count": 43,
   "metadata": {},
   "outputs": [],
   "source": [
    "params = {'booster':'gbtree',\n",
    "              'objective':'reg:linear',\n",
    "              'subsample':0.8, # 80\n",
    "              'colsample':0.8, # 80\n",
    "              'eta':0.03,   #0.03\n",
    "              'max_depth':10,  # 10\n",
    "              'seed':42}"
   ]
  },
  {
   "cell_type": "code",
   "execution_count": 44,
   "metadata": {},
   "outputs": [
    {
     "name": "stderr",
     "output_type": "stream",
     "text": [
      "100%|██████████| 24/24 [03:57<00:00,  9.68s/it]\n"
     ]
    }
   ],
   "source": [
    "result_a = pd.DataFrame()\n",
    "pred_a = pd.DataFrame()\n",
    "for i in tqdm(range(24)):\n",
    "    train_a = data_a[data_a.index.hour ==i]\n",
    "    #test= get_test_data('2018-11-16 00:00:00','2019-2-18 23:00:00','H')  # 公共的测试集\n",
    "    #test = label_holiday_miss(test, holiday)  # 标记节假日     only 春节和元旦\n",
    "    test_a = test[test.index.hour==i]\n",
    "    train_a, test_a = add_trend(train_a, test_a)\n",
    "    temp = add_date_features(train_a, test_a)\n",
    "    oof, pre = xgb_regression(temp, params, feval=xgb_mape)\n",
    "    result_a = result_a.append(pre)\n",
    "    pred_a = pred_a.append(oof)\n",
    "pred_a = pred_a.sort_values(by='时间')\n",
    "result_a = result_a.sort_values(by='时间')"
   ]
  },
  {
   "cell_type": "code",
   "execution_count": 46,
   "metadata": {
    "scrolled": true
   },
   "outputs": [
    {
     "name": "stderr",
     "output_type": "stream",
     "text": [
      "100%|██████████| 24/24 [03:35<00:00,  8.95s/it]\n"
     ]
    }
   ],
   "source": [
    "result_b = pd.DataFrame()\n",
    "pred_b = pd.DataFrame()\n",
    "for i in tqdm(range(24)):\n",
    "    train_b = data_b[data_b.index.hour ==i]\n",
    "    #test= get_test_data('2018-11-16 00:00:00','2019-2-18 23:00:00','H')  # 公共的测试集\n",
    "    #test = label_holiday_miss(test, holiday)  # 标记节假日     only 春节和元旦\n",
    "    test_b = test[test.index.hour==i]\n",
    "    train_b, test_b = add_trend(train_b, test_b)\n",
    "    temp = add_date_features(train_b, test_b)\n",
    "    oof, pre = xgb_regression(temp, params, feval=xgb_mape)\n",
    "    result_b = result_b.append(pre)\n",
    "    pred_b = pred_b.append(oof)\n",
    "pred_b = pred_b.sort_values(by='时间')\n",
    "result_b = result_b.sort_values(by='时间')"
   ]
  },
  {
   "cell_type": "markdown",
   "metadata": {},
   "source": [
    "# city c"
   ]
  },
  {
   "cell_type": "code",
   "execution_count": 48,
   "metadata": {},
   "outputs": [
    {
     "name": "stderr",
     "output_type": "stream",
     "text": [
      "100%|██████████| 24/24 [02:45<00:00,  6.30s/it]\n"
     ]
    }
   ],
   "source": [
    "result_c = pd.DataFrame()\n",
    "pred_c = pd.DataFrame()\n",
    "for i in tqdm(range(24)):\n",
    "    train_c = data_c[data_c.index.hour ==i]\n",
    "    #test= get_test_data('2018-11-16 00:00:00','2019-2-18 23:00:00','H')  # 公共的测试集\n",
    "    #test = label_holiday_miss(test, holiday)  # 标记节假日     only 春节和元旦\n",
    "    test_c = test[test.index.hour==i]\n",
    "    train_c, test_c = add_trend(train_c, test_c)\n",
    "    temp = add_date_features(train_c, test_c)\n",
    "    oof, pre = xgb_regression(temp, params, feval=xgb_mape)\n",
    "    result_c = result_c.append(pre)\n",
    "    pred_c = pred_c.append(oof)\n",
    "pred_c = pred_c.sort_values(by='时间')\n",
    "result_c = result_c.sort_values(by='时间')"
   ]
  },
  {
   "cell_type": "code",
   "execution_count": 32,
   "metadata": {},
   "outputs": [],
   "source": [
    "def make_submission(ra, rb, rc):\n",
    "    result_a = pd.DataFrame({'时间':pd.date_range('2018-11-16 00:00:00','2019-2-18 23:00:00',freq='H')})\n",
    "    result_a['地市'] = ['A']*result_a.shape[0]\n",
    "    result_a['流量'] = ra\n",
    "    result_b = pd.DataFrame({'时间':pd.date_range('2018-11-16 00:00:00','2019-2-18 23:00:00',freq='H')})\n",
    "    result_b['地市'] = ['B']*result_b.shape[0]\n",
    "    result_b['流量'] = rb\n",
    "    result_c = pd.DataFrame({'时间':pd.date_range('2018-11-16 00:00:00','2019-2-18 23:00:00',freq='H')})\n",
    "    result_c['地市'] = ['C']*result_c.shape[0]\n",
    "    result_c['流量'] = rc\n",
    "    result = result_a.append(result_b)\n",
    "    result = result.append(result_c)\n",
    "    return result\n",
    "\n",
    "submit = make_submission(result_a['流量'].values,result_b['流量'].values,result_c['流量'].values)\n",
    "\n",
    "submit['流量'] = submit['流量'].apply(lambda x: np.round(x,3))\n",
    "submit.to_csv('../result_baseline2.csv',index=False,encoding='gbk')"
   ]
  },
  {
   "cell_type": "code",
   "execution_count": null,
   "metadata": {},
   "outputs": [],
   "source": []
  }
 ],
 "metadata": {
  "kernelspec": {
   "display_name": "Python 3",
   "language": "python",
   "name": "python3"
  },
  "language_info": {
   "codemirror_mode": {
    "name": "ipython",
    "version": 3
   },
   "file_extension": ".py",
   "mimetype": "text/x-python",
   "name": "python",
   "nbconvert_exporter": "python",
   "pygments_lexer": "ipython3",
   "version": "3.7.3"
  }
 },
 "nbformat": 4,
 "nbformat_minor": 2
}
