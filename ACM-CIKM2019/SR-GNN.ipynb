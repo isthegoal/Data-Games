{
 "cells": [
  {
   "cell_type": "code",
   "execution_count": 1,
   "metadata": {},
   "outputs": [],
   "source": [
    "import os\n",
    "import csv\n",
    "import time\n",
    "import pickle\n",
    "import operator\n",
    "import datetime\n",
    "import argparse\n",
    "import pandas as pd"
   ]
  },
  {
   "cell_type": "code",
   "execution_count": 2,
   "metadata": {},
   "outputs": [],
   "source": [
    "dataset_path = './datasets/sample_train-item-views.csv'"
   ]
  },
  {
   "cell_type": "code",
   "execution_count": 13,
   "metadata": {},
   "outputs": [],
   "source": [
    "df = pd.read_csv(dataset_path, sep=';')"
   ]
  },
  {
   "cell_type": "code",
   "execution_count": 10,
   "metadata": {},
   "outputs": [],
   "source": [
    "with open(dataset_path, 'r') as f:\n",
    "    reader = csv.DictReader(f, delimiter=';')\n",
    "    sess_clicks = {}      # 回话集合\n",
    "    sess_date = {}\n",
    "    ctr = 0\n",
    "    curid = -1\n",
    "    curdate = None   # 事件发生的日期\n",
    "    for data in reader:\n",
    "        sessid = data['session_id']\n",
    "        if curdate and not curid ==  sessid:\n",
    "            date = time.mktime(time.strptime(curdate, '%Y-%m-%d'))   # 单位为秒的浮点数\n",
    "            sess_date[curid] = date\n",
    "        curid = sessid\n",
    "        item = data['item_id'], int(data['timeframe'])\n",
    "        curdate = data['eventdate']\n",
    "        if sessid in sess_clicks:    # 同一会话增加点击的item\n",
    "            sess_clicks[sessid] += [item]\n",
    "        else:\n",
    "            sess_clicks[sessid] = [item]\n",
    "        ctr+=1\n",
    "    date = time.mktime(time.strptime(curdate, '%Y-%m-%d'))\n",
    "    for i in list(sess_clicks):\n",
    "        sorted_clicks = sorted(sess_clicks[i], key=operator.itemgetter(1))\n",
    "        sess_clicks[i] = [c[0] for c in sorted_clicks]\n",
    "    sess_date[curid] = date"
   ]
  },
  {
   "cell_type": "markdown",
   "metadata": {},
   "source": [
    "- sess_clicks   \n",
    "   - key: session_id, value : [item]\n",
    "- sess_date\n",
    "   - key: session_id, value: eventdate  # 一个会话对应一个唯一的event_date"
   ]
  },
  {
   "cell_type": "markdown",
   "metadata": {},
   "source": [
    "# filter out长度为1的session"
   ]
  },
  {
   "cell_type": "code",
   "execution_count": 24,
   "metadata": {},
   "outputs": [],
   "source": [
    "for s in list(sess_clicks):\n",
    "    if len(sess_clicks[s]) == 1:\n",
    "        del sess_clicks[s]\n",
    "        del sess_date[s]"
   ]
  },
  {
   "cell_type": "markdown",
   "metadata": {},
   "source": [
    "# count每个item出现的次数"
   ]
  },
  {
   "cell_type": "code",
   "execution_count": 27,
   "metadata": {},
   "outputs": [],
   "source": [
    "iid_counts = {}\n",
    "for s in sess_clicks:\n",
    "    seq = sess_clicks[s]    # item list\n",
    "    for iid in seq:\n",
    "        if iid in iid_counts:\n",
    "            iid_counts[iid] += 1\n",
    "        else :\n",
    "            iid_counts[iid] = 1"
   ]
  },
  {
   "cell_type": "code",
   "execution_count": 30,
   "metadata": {},
   "outputs": [],
   "source": [
    "sorted_counts = sorted(iid_counts.items(), key=operator.itemgetter(1))   # 根据key排序，"
   ]
  },
  {
   "cell_type": "code",
   "execution_count": 31,
   "metadata": {},
   "outputs": [],
   "source": [
    "# 过滤 sess_dict ,保留item数量超过5次的，过滤后item_list 长度小于2的delete\n",
    "length = len(sess_clicks)\n",
    "for s in list(sess_clicks):\n",
    "    curseq = sess_clicks[s]\n",
    "    filtedseq = list(filter(lambda x : iid_counts[x] >= 5, curseq))\n",
    "    if len(filtedseq)<2:\n",
    "        del sess_clicks[s]\n",
    "        del sess_date[s]\n",
    "    else :\n",
    "        sess_clicks[s] = filtedseq"
   ]
  },
  {
   "cell_type": "code",
   "execution_count": 32,
   "metadata": {},
   "outputs": [
    {
     "name": "stdout",
     "output_type": "stream",
     "text": [
      "1462723200.0\n"
     ]
    }
   ],
   "source": [
    "# split test data based on dates\n",
    "dates  = list(sess_date.items())\n",
    "maxdate = dates[0][1]\n",
    "print(maxdate)"
   ]
  },
  {
   "cell_type": "code",
   "execution_count": 33,
   "metadata": {},
   "outputs": [],
   "source": [
    "for _ , date in dates:\n",
    "    if maxdate < date:\n",
    "        maxdate = date"
   ]
  },
  {
   "cell_type": "code",
   "execution_count": 34,
   "metadata": {},
   "outputs": [
    {
     "data": {
      "text/plain": [
       "1464710400.0"
      ]
     },
     "execution_count": 34,
     "metadata": {},
     "output_type": "execute_result"
    }
   ],
   "source": [
    "maxdate"
   ]
  },
  {
   "cell_type": "code",
   "execution_count": 38,
   "metadata": {},
   "outputs": [
    {
     "name": "stdout",
     "output_type": "stream",
     "text": [
      "Splitting date 1464105600.0\n"
     ]
    }
   ],
   "source": [
    "# 划分7天的测试数据, 一天 86400秒\n",
    "splitdate = maxdate - 86400*7\n",
    "print('Splitting date', splitdate)\n",
    "train_sess = filter(lambda x: x[1] < splitdate, dates)\n",
    "test_sess = filter(lambda x: x[1] > splitdate, dates)"
   ]
  },
  {
   "cell_type": "code",
   "execution_count": 42,
   "metadata": {},
   "outputs": [],
   "source": [
    "# sorted session  by date\n",
    "train_sess = sorted(train_sess, key=operator.itemgetter(1))    # [(session_id, timestamp), (), (),]\n",
    "test_sess = sorted(test_sess, key=operator.itemgetter(1))       # [(session_id, timestamp), (), (),]"
   ]
  },
  {
   "cell_type": "code",
   "execution_count": 59,
   "metadata": {},
   "outputs": [],
   "source": [
    "# 选出 item count >= 5 \n",
    "item_dict = {}\n",
    "# 转换train session to sequences and renumber items to start from 1\n",
    "# 给 item 编一个序号\n",
    "def obtian_train(train_sess):\n",
    "    train_ids = []\n",
    "    train_seqs = []\n",
    "    train_dates = []\n",
    "    item_ctr = 1\n",
    "    for s, date in train_sess:\n",
    "        seq = sess_clicks[s]     # item list\n",
    "        outseq = []\n",
    "        for i in seq:\n",
    "            if i in item_dict:\n",
    "                outseq += [item_dict[i]]\n",
    "            else :\n",
    "                outseq += [item_ctr]\n",
    "                item_dict[i] = item_ctr\n",
    "                item_ctr += 1\n",
    "        if len(outseq)<2:\n",
    "            continue\n",
    "        train_ids += [s]\n",
    "        train_dates += [date]\n",
    "        train_seqs += [outseq]\n",
    "    print(item_ctr)\n",
    "    return train_ids, train_dates, train_seqs"
   ]
  },
  {
   "cell_type": "code",
   "execution_count": 47,
   "metadata": {},
   "outputs": [],
   "source": [
    "def obtain_test(test_session):\n",
    "    test_ids = []\n",
    "    test_seqs = []\n",
    "    test_dates = []\n",
    "    for s, date in test_sess:\n",
    "        seq = sess_clicks[s]\n",
    "        outseq = []\n",
    "        for i in seq:\n",
    "            if i in item_dict:\n",
    "                outseq += [item_dict[i]]\n",
    "        if len(outseq) < 2:\n",
    "            continue\n",
    "        test_ids += [s]\n",
    "        test_dates += [date]\n",
    "        test_seqs += [outseq]\n",
    "    return test_ids, test_dates, test_seqs"
   ]
  },
  {
   "cell_type": "code",
   "execution_count": 49,
   "metadata": {},
   "outputs": [
    {
     "name": "stdout",
     "output_type": "stream",
     "text": [
      "310\n"
     ]
    }
   ],
   "source": [
    "train_ids, train_dates, train_seqs = obtian_train(train_sess)\n",
    "test_ids, test_dates, test_seqs = obtain_test(test_sess)"
   ]
  },
  {
   "cell_type": "code",
   "execution_count": 67,
   "metadata": {},
   "outputs": [],
   "source": [
    "def process_seqs(iseqs, idates):\n",
    "    out_seqs = []\n",
    "    out_dates = []\n",
    "    labs = []\n",
    "    ids = []\n",
    "    for id, seq, date in zip(range(len(iseqs)), iseqs, idates):\n",
    "        for i in range(1, len(seq)):                      #    会话数据构建，监督数据类型，一个会话中,item的子集，对应一个label\n",
    "            tar = seq[-i]\n",
    "            labs += [tar]\n",
    "            out_seqs += [seq[:-i]]\n",
    "            out_dates += [date]\n",
    "            ids += [id]\n",
    "    return out_seqs, out_dates, labs, ids"
   ]
  },
  {
   "cell_type": "code",
   "execution_count": 68,
   "metadata": {},
   "outputs": [],
   "source": [
    "train_seqs, train_dates, train_labels, train_ids = process_seqs(train_seqs, train_dates)\n",
    "\n",
    "test_seqs, test_dates, test_labels, test_ids = process_seqs(test_seqs, test_dates)"
   ]
  },
  {
   "cell_type": "markdown",
   "metadata": {},
   "source": [
    "# 构造有标签的数据"
   ]
  },
  {
   "cell_type": "code",
   "execution_count": null,
   "metadata": {},
   "outputs": [],
   "source": [
    "[[1,2,3], [4,5]]"
   ]
  },
  {
   "cell_type": "code",
   "execution_count": 71,
   "metadata": {},
   "outputs": [
    {
     "data": {
      "text/plain": [
       "[[1, 2], [1], [4]]"
      ]
     },
     "execution_count": 71,
     "metadata": {},
     "output_type": "execute_result"
    }
   ],
   "source": [
    "train_seqs[:3]"
   ]
  },
  {
   "cell_type": "code",
   "execution_count": 72,
   "metadata": {},
   "outputs": [
    {
     "data": {
      "text/plain": [
       "[3, 2, 5]"
      ]
     },
     "execution_count": 72,
     "metadata": {},
     "output_type": "execute_result"
    }
   ],
   "source": [
    "train_labels[:3]"
   ]
  },
  {
   "cell_type": "code",
   "execution_count": 77,
   "metadata": {},
   "outputs": [
    {
     "data": {
      "text/plain": [
       "56"
      ]
     },
     "execution_count": 77,
     "metadata": {},
     "output_type": "execute_result"
    }
   ],
   "source": [
    "len(set(train_labels).intersection(set(test_labels)))"
   ]
  },
  {
   "cell_type": "code",
   "execution_count": 78,
   "metadata": {},
   "outputs": [
    {
     "data": {
      "text/plain": [
       "(0.18421052631578946, 0.9655172413793104)"
      ]
     },
     "execution_count": 78,
     "metadata": {},
     "output_type": "execute_result"
    }
   ],
   "source": [
    "56/len(set(train_labels)), 56/len(set(test_labels))"
   ]
  },
  {
   "cell_type": "code",
   "execution_count": 79,
   "metadata": {},
   "outputs": [
    {
     "name": "stdout",
     "output_type": "stream",
     "text": [
      "avg length:  2.7737730061349692\n"
     ]
    }
   ],
   "source": [
    "all = 0\n",
    "for seq in train_seqs:\n",
    "    all += len(seq)\n",
    "for seq in test_seqs:\n",
    "    all += len(seq)\n",
    "print('avg length: ', all/(len(train_seqs)+len(test_seqs)))"
   ]
  },
  {
   "cell_type": "code",
   "execution_count": 80,
   "metadata": {},
   "outputs": [],
   "source": [
    "train = (train_seqs, train_labels)\n",
    "test = (test_seqs, test_labels)"
   ]
  },
  {
   "cell_type": "markdown",
   "metadata": {},
   "source": [
    "# save data"
   ]
  },
  {
   "cell_type": "code",
   "execution_count": 81,
   "metadata": {},
   "outputs": [],
   "source": [
    "pickle.dump(train, open('./train.txt', 'wb'))\n",
    "pickle.dump(test, open('./test.txt', 'wb'))\n",
    "pickle.dump(train_seqs, open('./all_train_seq.text', 'wb'))"
   ]
  },
  {
   "cell_type": "markdown",
   "metadata": {},
   "source": [
    "# load Data"
   ]
  },
  {
   "cell_type": "code",
   "execution_count": 14,
   "metadata": {},
   "outputs": [],
   "source": [
    "train = pickle.load(open('./train.txt', 'rb'))\n",
    "test = pickle.load(open('./train.txt', 'rb'))\n",
    "train_seqs = pickle.load(open('./all_train_seq.text','rb'))"
   ]
  },
  {
   "cell_type": "code",
   "execution_count": 20,
   "metadata": {},
   "outputs": [
    {
     "name": "stdout",
     "output_type": "stream",
     "text": [
      "{1, 2, 3, 4, 5, 6, 7, 8, 9, 10, 11, 12, 13, 14, 15, 16, 17, 18, 19, 20, 21, 22, 23, 24, 25, 26, 27, 28, 29, 30, 31, 32, 33, 34, 35, 36, 37, 38, 39, 40, 41, 42, 43, 44, 45, 46, 47, 48, 49, 50, 51, 52, 53, 54, 55, 56, 57, 58, 59, 60, 61, 62, 63, 64, 65, 66, 67, 68, 69, 70, 71, 72, 73, 74, 75, 76, 77, 78, 79, 80, 81, 82, 83, 84, 85, 86, 87, 88, 89, 90, 91, 92, 93, 94, 96, 97, 98, 99, 100, 101, 102, 103, 104, 105, 106, 107, 108, 109, 110, 111, 112, 113, 114, 115, 116, 117, 118, 119, 120, 121, 122, 123, 124, 125, 126, 127, 128, 129, 130, 131, 132, 133, 134, 135, 136, 137, 138, 139, 140, 141, 142, 143, 144, 145, 146, 147, 148, 149, 150, 151, 152, 153, 154, 155, 156, 157, 158, 159, 160, 161, 162, 163, 164, 165, 166, 167, 168, 169, 171, 172, 173, 174, 175, 176, 177, 178, 179, 180, 181, 182, 183, 184, 185, 186, 187, 188, 189, 190, 191, 192, 193, 194, 195, 196, 197, 198, 199, 200, 201, 202, 203, 204, 205, 206, 207, 208, 209, 210, 211, 212, 213, 214, 215, 216, 217, 218, 219, 220, 221, 222, 223, 224, 225, 226, 227, 228, 229, 231, 232, 233, 234, 235, 236, 237, 238, 239, 240, 241, 242, 243, 244, 245, 246, 247, 248, 249, 250, 251, 252, 253, 254, 255, 256, 257, 258, 259, 260, 261, 262, 264, 265, 266, 267, 268, 269, 270, 271, 272, 273, 274, 275, 276, 277, 278, 279, 280, 281, 282, 283, 284, 285, 286, 287, 288, 289, 290, 291, 292, 293, 294, 295, 296, 297, 298, 299, 300, 301, 302, 303, 304, 305, 306, 308, 309}\n"
     ]
    }
   ],
   "source": [
    "print(set(sum(train_seqs, [])+sum(test[0], [])))"
   ]
  },
  {
   "cell_type": "markdown",
   "metadata": {},
   "source": [
    "--------------------\n",
    "\n",
    "# 构建图&Visualization"
   ]
  },
  {
   "cell_type": "code",
   "execution_count": 3,
   "metadata": {},
   "outputs": [],
   "source": [
    "import networkx as nx\n",
    "import numpy as np\n",
    "import matplotlib.pyplot as plt\n",
    "%matplotlib inline"
   ]
  },
  {
   "cell_type": "code",
   "execution_count": 4,
   "metadata": {},
   "outputs": [],
   "source": [
    "def build_graph(train_data):\n",
    "    graph = nx.DiGraph()\n",
    "    for seq in train_data:\n",
    "        for i in range(len(seq) -1):\n",
    "            if graph.get_edge_data(seq[i], seq[i+1]) is None:\n",
    "                weight = 1\n",
    "            else:\n",
    "                weight = graph.get_edge_data(seq[i], seq[i+1])['weight']+1\n",
    "            graph.add_edge(seq[i], seq[i+1], weight=weight)\n",
    "    for node in graph.nodes:\n",
    "        sum = 0\n",
    "        for j, i in graph.in_edges(node):\n",
    "            sum += graph.get_edge_data(j, i)['weight']\n",
    "        if sum != 0:\n",
    "            for j, i in graph.in_edges(i):\n",
    "                graph.add_edge(j, i, weights=graph.get_edge_data(j, i)['weight']/sum)\n",
    "    return graph"
   ]
  },
  {
   "cell_type": "code",
   "execution_count": 100,
   "metadata": {},
   "outputs": [],
   "source": [
    "graph = build_graph(train_seqs)"
   ]
  },
  {
   "cell_type": "code",
   "execution_count": 103,
   "metadata": {},
   "outputs": [
    {
     "data": {
      "image/png": "[encoded data removed]",
      "text/plain": [
       "<Figure size 432x288 with 1 Axes>"
      ]
     },
     "metadata": {},
     "output_type": "display_data"
    }
   ],
   "source": [
    "#plt.figure(figsize=(15, 10))\n",
    "nx.draw(graph, with_labels=True, font_weight='bold')"
   ]
  },
  {
   "cell_type": "code",
   "execution_count": 5,
   "metadata": {},
   "outputs": [],
   "source": [
    "def data_masks(all_usr_pois, item_tail):\n",
    "    us_lens = [len(upois) for upois in all_usr_pois]\n",
    "    len_max = max(us_lens)\n",
    "    us_pois = [upois + item_tail * (len_max - le) for upois, le in zip(all_usr_pois, us_lens)]\n",
    "    us_msks = [[1] * le + [0] * (len_max - le) for le in us_lens]\n",
    "    return us_pois, us_msks, len_max"
   ]
  },
  {
   "cell_type": "code",
   "execution_count": 6,
   "metadata": {},
   "outputs": [],
   "source": [
    "def split_validation(train_data, valid_rate):\n",
    "    train_x, train_y = train_data\n",
    "    n_samples = len(train_x)\n",
    "    sidx = np.arange(n_samples, dtype='nt32')\n",
    "    np.random.shuffle(sidx)\n",
    "    n_train = int(np.round(n_samples*(1-valid_rate)))\n",
    "    valid_x = [train_x[i] for i in sidx[n_train:]]\n",
    "    valid_y = [train_y[i] for i in sidx[n_train:]]\n",
    "    train_x = [train_x[i] for i in sidx[:n_train]]\n",
    "    train_y = [train_y[i] for i in sidx[:n_train]]\n",
    "    return (train_x, train_y), (valid_x, valid_y)"
   ]
  },
  {
   "cell_type": "code",
   "execution_count": 7,
   "metadata": {},
   "outputs": [],
   "source": [
    "class Data():\n",
    "    def __init__(self, data, sub_graph=False, method='ggnn', sparse=False, shuffle=False):\n",
    "        inputs = data[0]\n",
    "        inputs, mask, len_max = data_masks(inputs, [0])\n",
    "        self.inputs = np.asarray(inputs)\n",
    "        self.mask = np.asarray(mask)\n",
    "        self.len_max = len_max\n",
    "        self.targets = np.asarray(data[1])\n",
    "        self.length = len(inputs)\n",
    "        self.shuffle = shuffle\n",
    "        self.sub_graph = sub_graph\n",
    "        self.sparse = sparse\n",
    "        self.method = method\n",
    "\n",
    "    def generate_batch(self, batch_size):\n",
    "        if self.shuffle:\n",
    "            shuffled_arg = np.arange(self.length)\n",
    "            np.random.shuffle(shuffled_arg)\n",
    "            self.inputs = self.inputs[shuffled_arg]\n",
    "            self.mask = self.mask[shuffled_arg]\n",
    "            self.targets = self.targets[shuffled_arg]\n",
    "        n_batch = int(self.length / batch_size)\n",
    "        if self.length % batch_size != 0:\n",
    "            n_batch += 1\n",
    "        slices = np.split(np.arange(n_batch * batch_size), n_batch)\n",
    "        slices[-1] = np.arange(self.length-batch_size, self.length)\n",
    "        return slices\n",
    "\n",
    "    def get_slice(self, index):   #这里将输入数据转换成为图的结构矩阵\n",
    "        if 1:\n",
    "            items, n_node, A_in, A_out, alias_inputs = [], [], [], [], []\n",
    "            for u_input in self.inputs[index]:\n",
    "                n_node.append(len(np.unique(u_input)))\n",
    "            max_n_node = np.max(n_node)\n",
    "            if self.method == 'ggnn':\n",
    "                for u_input in self.inputs[index]:\n",
    "                    node = np.unique(u_input)\n",
    "                    items.append(node.tolist() + (max_n_node - len(node)) * [0])\n",
    "                    u_A = np.zeros((max_n_node, max_n_node))\n",
    "                    for i in np.arange(len(u_input) - 1):\n",
    "                        if u_input[i + 1] == 0:\n",
    "                            break\n",
    "                        u = np.where(node == u_input[i])[0][0]\n",
    "                        v = np.where(node == u_input[i + 1])[0][0]\n",
    "                        u_A[u][v] = 1\n",
    "                    u_sum_in = np.sum(u_A, 0)\n",
    "                    u_sum_in[np.where(u_sum_in == 0)] = 1\n",
    "                    u_A_in = np.divide(u_A, u_sum_in)\n",
    "                    u_sum_out = np.sum(u_A, 1)\n",
    "                    u_sum_out[np.where(u_sum_out == 0)] = 1\n",
    "                    u_A_out = np.divide(u_A.transpose(), u_sum_out)\n",
    "\n",
    "                    A_in.append(u_A_in)\n",
    "                    A_out.append(u_A_out)\n",
    "                    alias_inputs.append([np.where(node == i)[0][0] for i in u_input])\n",
    "                return A_in, A_out, alias_inputs, items, self.mask[index], self.targets[index]\n",
    "            elif self.method == 'gat':\n",
    "                A_in = []\n",
    "                A_out = []\n",
    "                for u_input in self.inputs[index]:\n",
    "                    node = np.unique(u_input)\n",
    "                    items.append(node.tolist() + (max_n_node - len(node)) * [0])\n",
    "                    u_A = np.eye(max_n_node)\n",
    "                    for i in np.arange(len(u_input) - 1):\n",
    "                        if u_input[i + 1] == 0:\n",
    "                            break\n",
    "                        u = np.where(node == u_input[i])[0][0]\n",
    "                        v = np.where(node == u_input[i + 1])[0][0]\n",
    "                        u_A[u][v] = 1\n",
    "                    A_in.append(-1e9 * (1 - u_A))\n",
    "                    A_out.append(-1e9 * (1 - u_A.transpose()))\n",
    "                    alias_inputs.append([np.where(node == i)[0][0] for i in u_input])\n",
    "                return A_in, A_out, alias_inputs, items, self.mask[index], self.targets[index]\n",
    "\n",
    "        else:\n",
    "            return self.inputs[index], self.mask[index], self.targets[index]"
   ]
  },
  {
   "cell_type": "markdown",
   "metadata": {},
   "source": [
    "# build Model"
   ]
  },
  {
   "cell_type": "code",
   "execution_count": 8,
   "metadata": {},
   "outputs": [],
   "source": [
    "import tensorflow as tf\n",
    "import math"
   ]
  },
  {
   "cell_type": "code",
   "execution_count": 9,
   "metadata": {},
   "outputs": [],
   "source": [
    "class Model(object):\n",
    "    def __init__(self, hidden_size=100, out_size=100, batch_size=100, nonhybrid=True):\n",
    "        self.hidden_size = hidden_size\n",
    "        self.out_size = out_size\n",
    "        self.batch_size = batch_size\n",
    "        self.mask = tf.placeholder(dtype=tf.float32)\n",
    "        self.alias = tf.placeholder(dtype=tf.int32)  # 给给每个输入重新\n",
    "        self.item = tf.placeholder(dtype=tf.int32)   # 重新编号的序列构成的矩阵\n",
    "        self.tar = tf.placeholder(dtype=tf.int32)\n",
    "        self.nonhybrid = nonhybrid\n",
    "        self.stdv = 1.0 / math.sqrt(self.hidden_size)\n",
    "\n",
    "        self.nasr_w1 = tf.get_variable('nasr_w1', [self.out_size, self.out_size], dtype=tf.float32,\n",
    "                                       initializer=tf.random_uniform_initializer(-self.stdv, self.stdv))\n",
    "        self.nasr_w2 = tf.get_variable('nasr_w2', [self.out_size, self.out_size], dtype=tf.float32,\n",
    "                                       initializer=tf.random_uniform_initializer(-self.stdv, self.stdv))\n",
    "        self.nasr_v = tf.get_variable('nasrv', [1, self.out_size], dtype=tf.float32,\n",
    "                                      initializer=tf.random_uniform_initializer(-self.stdv, self.stdv))\n",
    "        self.nasr_b = tf.get_variable('nasr_b', [self.out_size], dtype=tf.float32, initializer=tf.zeros_initializer())\n",
    "\n",
    "    def forward(self, re_embedding, train=True):\n",
    "        rm = tf.reduce_sum(self.mask, 1)\n",
    "        last_id = tf.gather_nd(self.alias, tf.stack([tf.range(self.batch_size), tf.to_int32(rm)-1], axis=1))\n",
    "        last_h = tf.gather_nd(re_embedding, tf.stack([tf.range(self.batch_size), last_id], axis=1))\n",
    "        seq_h = tf.stack([tf.nn.embedding_lookup(re_embedding[i], self.alias[i]) for i in range(self.batch_size)],\n",
    "                         axis=0)                                                           #batch_size*T*d\n",
    "        last = tf.matmul(last_h, self.nasr_w1)\n",
    "        seq = tf.matmul(tf.reshape(seq_h, [-1, self.out_size]), self.nasr_w2)\n",
    "        last = tf.reshape(last, [self.batch_size, 1, -1])\n",
    "        m = tf.nn.sigmoid(last + tf.reshape(seq, [self.batch_size, -1, self.out_size]) + self.nasr_b)\n",
    "        coef = tf.matmul(tf.reshape(m, [-1, self.out_size]), self.nasr_v, transpose_b=True) * tf.reshape(\n",
    "            self.mask, [-1, 1])\n",
    "        b = self.embedding[1:]\n",
    "        if not self.nonhybrid:\n",
    "            ma = tf.concat([tf.reduce_sum(tf.reshape(coef, [self.batch_size, -1, 1]) * seq_h, 1),\n",
    "                            tf.reshape(last, [-1, self.out_size])], -1)\n",
    "            self.B = tf.get_variable('B', [2 * self.out_size, self.out_size],\n",
    "                                     initializer=tf.random_uniform_initializer(-self.stdv, self.stdv))\n",
    "            y1 = tf.matmul(ma, self.B)\n",
    "            logits = tf.matmul(y1, b, transpose_b=True)\n",
    "        else:\n",
    "            ma = tf.reduce_sum(tf.reshape(coef, [self.batch_size, -1, 1]) * seq_h, 1)\n",
    "            logits = tf.matmul(ma, b, transpose_b=True)\n",
    "        loss = tf.reduce_mean(\n",
    "            tf.nn.sparse_softmax_cross_entropy_with_logits(labels=self.tar - 1, logits=logits))\n",
    "        self.vars = tf.trainable_variables()\n",
    "        if train:\n",
    "            lossL2 = tf.add_n([tf.nn.l2_loss(v) for v in self.vars if v.name not\n",
    "                               in ['bias', 'gamma', 'b', 'g', 'beta']]) * self.L2\n",
    "            loss = loss + lossL2\n",
    "        return loss, logits\n",
    "\n",
    "    def run(self, fetches, tar, item, adj_in, adj_out, alias, mask):\n",
    "        return self.sess.run(fetches, feed_dict={self.tar: tar, self.item: item, self.adj_in: adj_in,\n",
    "                                                 self.adj_out: adj_out, self.alias: alias, self.mask: mask})\n",
    "\n",
    "\n",
    "class GGNN(Model):\n",
    "    def __init__(self,hidden_size=100, out_size=100, batch_size=300, n_node=None,\n",
    "                 lr=None, l2=None, step=1, decay=None, lr_dc=0.1, nonhybrid=False):\n",
    "        super(GGNN,self).__init__(hidden_size, out_size, batch_size, nonhybrid)\n",
    "        self.embedding = tf.get_variable(shape=[n_node, hidden_size], name='embedding', dtype=tf.float32,\n",
    "                                         initializer=tf.random_uniform_initializer(-self.stdv, self.stdv))\n",
    "        self.adj_in = tf.placeholder(dtype=tf.float32, shape=[self.batch_size, None, None])\n",
    "        self.adj_out = tf.placeholder(dtype=tf.float32, shape=[self.batch_size, None, None])\n",
    "        self.n_node = n_node\n",
    "        self.L2 = l2\n",
    "        self.step = step\n",
    "        self.nonhybrid = nonhybrid\n",
    "        self.W_in = tf.get_variable('W_in', shape=[self.out_size, self.out_size], dtype=tf.float32,\n",
    "                                    initializer=tf.random_uniform_initializer(-self.stdv, self.stdv))\n",
    "        self.b_in = tf.get_variable('b_in', [self.out_size], dtype=tf.float32,\n",
    "                                    initializer=tf.random_uniform_initializer(-self.stdv, self.stdv))\n",
    "        self.W_out = tf.get_variable('W_out', [self.out_size, self.out_size], dtype=tf.float32,\n",
    "                                     initializer=tf.random_uniform_initializer(-self.stdv, self.stdv))\n",
    "        self.b_out = tf.get_variable('b_out', [self.out_size], dtype=tf.float32,\n",
    "                                     initializer=tf.random_uniform_initializer(-self.stdv, self.stdv))\n",
    "        with tf.variable_scope('ggnn_model', reuse=None):\n",
    "            self.loss_train, _ = self.forward(self.ggnn())\n",
    "        with tf.variable_scope('ggnn_model', reuse=True):\n",
    "            self.loss_test, self.score_test = self.forward(self.ggnn(), train=False)\n",
    "        self.global_step = tf.Variable(0)\n",
    "        self.learning_rate = tf.train.exponential_decay(lr, global_step=self.global_step, decay_steps=decay,\n",
    "                                                        decay_rate=lr_dc, staircase=True)\n",
    "        self.opt = tf.train.AdamOptimizer(self.learning_rate).minimize(self.loss_train, global_step=self.global_step)\n",
    "        gpu_options = tf.GPUOptions(per_process_gpu_memory_fraction=0.8)\n",
    "        config = tf.ConfigProto(gpu_options=gpu_options)\n",
    "        config.gpu_options.allow_growth = True\n",
    "        self.sess = tf.Session(config=config)\n",
    "        self.sess.run(tf.global_variables_initializer())\n",
    "\n",
    "    def ggnn(self):\n",
    "        fin_state = tf.nn.embedding_lookup(self.embedding, self.item)\n",
    "        cell = tf.nn.rnn_cell.GRUCell(self.out_size)\n",
    "        with tf.variable_scope('gru'):\n",
    "            for i in range(self.step):\n",
    "                fin_state = tf.reshape(fin_state, [self.batch_size, -1, self.out_size])\n",
    "                fin_state_in = tf.reshape(tf.matmul(tf.reshape(fin_state, [-1, self.out_size]),\n",
    "                                                    self.W_in) + self.b_in, [self.batch_size, -1, self.out_size])\n",
    "                fin_state_out = tf.reshape(tf.matmul(tf.reshape(fin_state, [-1, self.out_size]),\n",
    "                                                     self.W_out) + self.b_out, [self.batch_size, -1, self.out_size])\n",
    "                av = tf.concat([tf.matmul(self.adj_in, fin_state_in),\n",
    "                                tf.matmul(self.adj_out, fin_state_out)], axis=-1)\n",
    "                state_output, fin_state = \\\n",
    "                    tf.nn.dynamic_rnn(cell, tf.expand_dims(tf.reshape(av, [-1, 2*self.out_size]), axis=1),\n",
    "                                      initial_state=tf.reshape(fin_state, [-1, self.out_size]))\n",
    "        return tf.reshape(fin_state, [self.batch_size, -1, self.out_size])"
   ]
  },
  {
   "cell_type": "code",
   "execution_count": 10,
   "metadata": {},
   "outputs": [],
   "source": [
    "train_data = Data(train, sub_graph=True, method='ggnn', shuffle=True)\n",
    "test_data = Data(test, sub_graph=True, method='ggnn', shuffle=False)"
   ]
  },
  {
   "cell_type": "code",
   "execution_count": 11,
   "metadata": {},
   "outputs": [
    {
     "data": {
      "text/plain": [
       "304"
      ]
     },
     "execution_count": 11,
     "metadata": {},
     "output_type": "execute_result"
    }
   ],
   "source": [
    "len(set(sum(train[0],[])))"
   ]
  },
  {
   "cell_type": "code",
   "execution_count": 12,
   "metadata": {},
   "outputs": [
    {
     "name": "stdout",
     "output_type": "stream",
     "text": [
      "WARNING:tensorflow:From /home/dsq/anaconda3/lib/python3.7/site-packages/tensorflow/python/framework/op_def_library.py:263: colocate_with (from tensorflow.python.framework.ops) is deprecated and will be removed in a future version.\n",
      "Instructions for updating:\n",
      "Colocations handled automatically by placer.\n",
      "WARNING:tensorflow:From <ipython-input-9-95e0b87950cd>:94: GRUCell.__init__ (from tensorflow.python.ops.rnn_cell_impl) is deprecated and will be removed in a future version.\n",
      "Instructions for updating:\n",
      "This class is equivalent as tf.keras.layers.GRUCell, and will be replaced by that in Tensorflow 2.0.\n",
      "WARNING:tensorflow:From <ipython-input-9-95e0b87950cd>:106: dynamic_rnn (from tensorflow.python.ops.rnn) is deprecated and will be removed in a future version.\n",
      "Instructions for updating:\n",
      "Please use `keras.layers.RNN(cell)`, which is equivalent to this API\n",
      "WARNING:tensorflow:From <ipython-input-9-95e0b87950cd>:23: to_int32 (from tensorflow.python.ops.math_ops) is deprecated and will be removed in a future version.\n",
      "Instructions for updating:\n",
      "Use tf.cast instead.\n"
     ]
    },
    {
     "name": "stderr",
     "output_type": "stream",
     "text": [
      "/home/dsq/anaconda3/lib/python3.7/site-packages/tensorflow/python/ops/gradients_impl.py:110: UserWarning: Converting sparse IndexedSlices to a dense Tensor of unknown shape. This may consume a large amount of memory.\n",
      "  \"Converting sparse IndexedSlices to a dense Tensor of unknown shape. \"\n"
     ]
    }
   ],
   "source": [
    "model = GGNN(hidden_size=100, out_size=100, batch_size=100, n_node=310,\n",
    "                 lr=0.001, l2=1e-5,  step=1, decay=3 * len(train_data.inputs) /100, lr_dc=0.1,\n",
    "                 nonhybrid='store_true')"
   ]
  },
  {
   "cell_type": "code",
   "execution_count": 13,
   "metadata": {},
   "outputs": [
    {
     "name": "stdout",
     "output_type": "stream",
     "text": [
      "epoch:  0 ===========================================\n",
      "start training:  2019-08-08 17:15:34.668564\n",
      "start predicting:  2019-08-08 17:15:36.350835\n",
      "train_loss:\t5.5779\ttest_loss:\t5.355560\tRecall@20:\t69.6923\tMMR@20:\t53.8532\tEpoch:\t0,\t0\n",
      "epoch:  1 ===========================================\n",
      "start training:  2019-08-08 17:15:36.964836\n",
      "start predicting:  2019-08-08 17:15:37.321285\n",
      "train_loss:\t5.0737\ttest_loss:\t4.660647\tRecall@20:\t74.5385\tMMR@20:\t55.7632\tEpoch:\t1,\t1\n",
      "epoch:  2 ===========================================\n",
      "start training:  2019-08-08 17:15:37.645170\n",
      "start predicting:  2019-08-08 17:15:37.997921\n",
      "train_loss:\t4.4019\ttest_loss:\t4.082599\tRecall@20:\t79.3846\tMMR@20:\t57.9117\tEpoch:\t2,\t2\n",
      "epoch:  3 ===========================================\n",
      "start training:  2019-08-08 17:15:38.300027\n",
      "start predicting:  2019-08-08 17:15:38.642731\n",
      "train_loss:\t4.0816\ttest_loss:\t4.022038\tRecall@20:\t80.4615\tMMR@20:\t58.1990\tEpoch:\t3,\t3\n",
      "epoch:  4 ===========================================\n",
      "start training:  2019-08-08 17:15:38.955131\n",
      "start predicting:  2019-08-08 17:15:39.332853\n",
      "train_loss:\t4.0372\ttest_loss:\t3.964794\tRecall@20:\t81.3077\tMMR@20:\t58.4834\tEpoch:\t4,\t4\n",
      "epoch:  5 ===========================================\n",
      "start training:  2019-08-08 17:15:39.648093\n",
      "start predicting:  2019-08-08 17:15:40.004780\n",
      "train_loss:\t3.9757\ttest_loss:\t3.928766\tRecall@20:\t81.6923\tMMR@20:\t58.6893\tEpoch:\t5,\t5\n",
      "epoch:  6 ===========================================\n",
      "start training:  2019-08-08 17:15:40.316975\n",
      "start predicting:  2019-08-08 17:15:40.669662\n",
      "train_loss:\t3.9411\ttest_loss:\t3.923446\tRecall@20:\t81.7692\tMMR@20:\t58.7229\tEpoch:\t6,\t6\n",
      "epoch:  7 ===========================================\n",
      "start training:  2019-08-08 17:15:41.001697\n",
      "start predicting:  2019-08-08 17:15:41.354296\n",
      "train_loss:\t3.9489\ttest_loss:\t3.918167\tRecall@20:\t81.7692\tMMR@20:\t58.7229\tEpoch:\t7,\t6\n",
      "epoch:  8 ===========================================\n",
      "start training:  2019-08-08 17:15:41.668160\n",
      "start predicting:  2019-08-08 17:15:42.017389\n",
      "train_loss:\t3.9373\ttest_loss:\t3.915808\tRecall@20:\t82.0000\tMMR@20:\t58.7839\tEpoch:\t8,\t8\n",
      "epoch:  9 ===========================================\n",
      "start training:  2019-08-08 17:15:42.330248\n",
      "start predicting:  2019-08-08 17:15:42.680084\n",
      "train_loss:\t3.9443\ttest_loss:\t3.915293\tRecall@20:\t82.0000\tMMR@20:\t58.7852\tEpoch:\t9,\t9\n",
      "epoch:  10 ===========================================\n",
      "start training:  2019-08-08 17:15:42.984160\n",
      "start predicting:  2019-08-08 17:15:43.332100\n",
      "train_loss:\t3.9252\ttest_loss:\t3.914782\tRecall@20:\t82.0000\tMMR@20:\t58.7917\tEpoch:\t10,\t10\n",
      "epoch:  11 ===========================================\n",
      "start training:  2019-08-08 17:15:43.645404\n",
      "start predicting:  2019-08-08 17:15:43.992232\n",
      "train_loss:\t3.9250\ttest_loss:\t3.914659\tRecall@20:\t82.0000\tMMR@20:\t58.7919\tEpoch:\t11,\t11\n",
      "epoch:  12 ===========================================\n",
      "start training:  2019-08-08 17:15:44.316801\n",
      "start predicting:  2019-08-08 17:15:44.669841\n",
      "train_loss:\t3.9433\ttest_loss:\t3.914607\tRecall@20:\t82.0000\tMMR@20:\t58.7919\tEpoch:\t12,\t12\n",
      "epoch:  13 ===========================================\n",
      "start training:  2019-08-08 17:15:45.000552\n",
      "start predicting:  2019-08-08 17:15:45.358128\n",
      "train_loss:\t3.9382\ttest_loss:\t3.914560\tRecall@20:\t82.0000\tMMR@20:\t58.7919\tEpoch:\t13,\t13\n",
      "epoch:  14 ===========================================\n",
      "start training:  2019-08-08 17:15:45.677572\n",
      "start predicting:  2019-08-08 17:15:46.027545\n",
      "train_loss:\t3.9315\ttest_loss:\t3.914555\tRecall@20:\t82.0000\tMMR@20:\t58.7919\tEpoch:\t14,\t14\n",
      "epoch:  15 ===========================================\n",
      "start training:  2019-08-08 17:15:46.332029\n",
      "start predicting:  2019-08-08 17:15:46.673456\n",
      "train_loss:\t3.9326\ttest_loss:\t3.914550\tRecall@20:\t82.0000\tMMR@20:\t58.7919\tEpoch:\t15,\t15\n",
      "epoch:  16 ===========================================\n",
      "start training:  2019-08-08 17:15:46.984989\n",
      "start predicting:  2019-08-08 17:15:47.335352\n",
      "train_loss:\t3.9278\ttest_loss:\t3.914546\tRecall@20:\t82.0000\tMMR@20:\t58.7919\tEpoch:\t16,\t16\n",
      "epoch:  17 ===========================================\n",
      "start training:  2019-08-08 17:15:47.648926\n",
      "start predicting:  2019-08-08 17:15:48.000817\n",
      "train_loss:\t3.9294\ttest_loss:\t3.914546\tRecall@20:\t82.0000\tMMR@20:\t58.7919\tEpoch:\t17,\t17\n",
      "epoch:  18 ===========================================\n",
      "start training:  2019-08-08 17:15:48.310203\n",
      "start predicting:  2019-08-08 17:15:48.681952\n",
      "train_loss:\t3.9333\ttest_loss:\t3.914546\tRecall@20:\t82.0000\tMMR@20:\t58.7919\tEpoch:\t18,\t18\n",
      "epoch:  19 ===========================================\n",
      "start training:  2019-08-08 17:15:49.022828\n",
      "start predicting:  2019-08-08 17:15:49.383475\n",
      "train_loss:\t3.9363\ttest_loss:\t3.914546\tRecall@20:\t82.0000\tMMR@20:\t58.7919\tEpoch:\t19,\t19\n",
      "epoch:  20 ===========================================\n",
      "start training:  2019-08-08 17:15:49.704961\n",
      "start predicting:  2019-08-08 17:15:50.065594\n",
      "train_loss:\t3.9202\ttest_loss:\t3.914546\tRecall@20:\t82.0000\tMMR@20:\t58.7919\tEpoch:\t20,\t20\n",
      "epoch:  21 ===========================================\n",
      "start training:  2019-08-08 17:15:50.382233\n",
      "start predicting:  2019-08-08 17:15:50.737990\n",
      "train_loss:\t3.9491\ttest_loss:\t3.914546\tRecall@20:\t82.0000\tMMR@20:\t58.7919\tEpoch:\t21,\t21\n",
      "epoch:  22 ===========================================\n",
      "start training:  2019-08-08 17:15:51.050072\n",
      "start predicting:  2019-08-08 17:15:51.404036\n",
      "train_loss:\t3.9066\ttest_loss:\t3.914546\tRecall@20:\t82.0000\tMMR@20:\t58.7919\tEpoch:\t22,\t22\n",
      "epoch:  23 ===========================================\n",
      "start training:  2019-08-08 17:15:51.719160\n",
      "start predicting:  2019-08-08 17:15:52.062767\n",
      "train_loss:\t3.9406\ttest_loss:\t3.914546\tRecall@20:\t82.0000\tMMR@20:\t58.7919\tEpoch:\t23,\t23\n",
      "epoch:  24 ===========================================\n",
      "start training:  2019-08-08 17:15:52.369843\n",
      "start predicting:  2019-08-08 17:15:52.735176\n",
      "train_loss:\t3.9346\ttest_loss:\t3.914546\tRecall@20:\t82.0000\tMMR@20:\t58.7919\tEpoch:\t24,\t24\n",
      "epoch:  25 ===========================================\n",
      "start training:  2019-08-08 17:15:53.066445\n",
      "start predicting:  2019-08-08 17:15:53.419848\n",
      "train_loss:\t3.9292\ttest_loss:\t3.914546\tRecall@20:\t82.0000\tMMR@20:\t58.7919\tEpoch:\t25,\t25\n",
      "epoch:  26 ===========================================\n",
      "start training:  2019-08-08 17:15:53.735505\n",
      "start predicting:  2019-08-08 17:15:54.091637\n",
      "train_loss:\t3.9488\ttest_loss:\t3.914546\tRecall@20:\t82.0000\tMMR@20:\t58.7919\tEpoch:\t26,\t26\n",
      "epoch:  27 ===========================================\n",
      "start training:  2019-08-08 17:15:54.409571\n",
      "start predicting:  2019-08-08 17:15:54.752081\n",
      "train_loss:\t3.9206\ttest_loss:\t3.914546\tRecall@20:\t82.0000\tMMR@20:\t58.7919\tEpoch:\t27,\t27\n",
      "epoch:  28 ===========================================\n",
      "start training:  2019-08-08 17:15:55.073251\n",
      "start predicting:  2019-08-08 17:15:55.430593\n",
      "train_loss:\t3.9311\ttest_loss:\t3.914546\tRecall@20:\t82.0000\tMMR@20:\t58.7919\tEpoch:\t28,\t28\n",
      "epoch:  29 ===========================================\n",
      "start training:  2019-08-08 17:15:55.744733\n",
      "start predicting:  2019-08-08 17:15:56.097568\n",
      "train_loss:\t3.9079\ttest_loss:\t3.914546\tRecall@20:\t82.0000\tMMR@20:\t58.7919\tEpoch:\t29,\t29\n"
     ]
    }
   ],
   "source": [
    "best_result = [0, 0]\n",
    "best_epoch = [0, 0]\n",
    "for epoch in range(30):\n",
    "    print('epoch: ', epoch, '===========================================')\n",
    "    slices = train_data.generate_batch(model.batch_size)\n",
    "    fetches = [model.opt, model.loss_train, model.global_step]\n",
    "    print('start training: ', datetime.datetime.now())\n",
    "    loss_ = []\n",
    "    for i, j in zip(slices, np.arange(len(slices))):\n",
    "        adj_in, adj_out, alias, item, mask, targets = train_data.get_slice(i)\n",
    "        _, loss, _ = model.run(fetches, targets, item, adj_in, adj_out, alias,  mask)\n",
    "        loss_.append(loss)\n",
    "    loss = np.mean(loss_)\n",
    "    slices = test_data.generate_batch(model.batch_size)\n",
    "    print('start predicting: ', datetime.datetime.now())\n",
    "    hit, mrr, test_loss_ = [], [],[]\n",
    "    for i, j in zip(slices, np.arange(len(slices))):\n",
    "        adj_in, adj_out, alias, item, mask, targets = test_data.get_slice(i)\n",
    "        scores, test_loss = model.run([model.score_test, model.loss_test], targets, item, adj_in, adj_out, alias,  mask)\n",
    "        test_loss_.append(test_loss)\n",
    "        index = np.argsort(scores, 1)[:, -20:]\n",
    "        for score, target in zip(index, targets):\n",
    "            hit.append(np.isin(target - 1, score))\n",
    "            if len(np.where(score == target - 1)[0]) == 0:\n",
    "                mrr.append(0)\n",
    "            else:\n",
    "                mrr.append(1 / (20-np.where(score == target - 1)[0][0]))\n",
    "    hit = np.mean(hit)*100\n",
    "    mrr = np.mean(mrr)*100\n",
    "    test_loss = np.mean(test_loss_)\n",
    "    if hit >= best_result[0]:\n",
    "        best_result[0] = hit\n",
    "        best_epoch[0] = epoch\n",
    "    if mrr >= best_result[1]:\n",
    "        best_result[1] = mrr\n",
    "        best_epoch[1]=epoch\n",
    "    print('train_loss:\\t%.4f\\ttest_loss:\\t%4f\\tRecall@20:\\t%.4f\\tMMR@20:\\t%.4f\\tEpoch:\\t%d,\\t%d'%\n",
    "          (loss, test_loss, best_result[0], best_result[1], best_epoch[0], best_epoch[1]))"
   ]
  },
  {
   "cell_type": "code",
   "execution_count": null,
   "metadata": {},
   "outputs": [],
   "source": [
    "model.predict"
   ]
  }
 ],
 "metadata": {
  "kernelspec": {
   "display_name": "Python 3",
   "language": "python",
   "name": "python3"
  },
  "language_info": {
   "codemirror_mode": {
    "name": "ipython",
    "version": 3
   },
   "file_extension": ".py",
   "mimetype": "text/x-python",
   "name": "python",
   "nbconvert_exporter": "python",
   "pygments_lexer": "ipython3",
   "version": "3.7.2"
  }
 },
 "nbformat": 4,
 "nbformat_minor": 2
}
